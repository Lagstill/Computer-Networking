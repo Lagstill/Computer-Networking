{
 "cells": [
  {
   "cell_type": "code",
   "execution_count": 2,
   "id": "7bf87727",
   "metadata": {},
   "outputs": [
    {
     "name": "stdout",
     "output_type": "stream",
     "text": [
      "hello\n",
      "Server Msg received\n",
      "this is Client2\n",
      "Server Msg received\n",
      "Bye\n",
      "Server Msg received\n",
      "Bye from 2\n",
      "Server Msg received\n"
     ]
    }
   ],
   "source": [
    "import socket\n",
    "\n",
    "HEADER = 64\n",
    "PORT = 5050\n",
    "FORMAT = 'utf-8'\n",
    "DISCONNECT_MESSAGE = \"!DISCONNECT\"\n",
    "SERVER = \"192.168.56.1\"\n",
    "ADDR = (SERVER, PORT)\n",
    "\n",
    "client = socket.socket(socket.AF_INET, socket.SOCK_STREAM)\n",
    "client.connect(ADDR)\n",
    "\n",
    "def send(msg):\n",
    "    message = msg.encode(FORMAT)\n",
    "    msg_length = len(message)\n",
    "    send_length = str(msg_length).encode(FORMAT)\n",
    "    send_length += b' ' * (HEADER - len(send_length))\n",
    "    client.send(send_length)\n",
    "    client.send(message)\n",
    "    print(client.recv(2048).decode(FORMAT))\n",
    "\n",
    "connect = True\n",
    "while(connect):\n",
    "    b = input()\n",
    "    if b == 'Bye from 2':\n",
    "        send(DISCONNECT_MESSAGE)\n",
    "        connect = False\n",
    "    else:\n",
    "        send(b)"
   ]
  },
  {
   "cell_type": "code",
   "execution_count": null,
   "id": "335cc4ed",
   "metadata": {},
   "outputs": [],
   "source": []
  }
 ],
 "metadata": {
  "kernelspec": {
   "display_name": "Python 3",
   "language": "python",
   "name": "python3"
  },
  "language_info": {
   "codemirror_mode": {
    "name": "ipython",
    "version": 3
   },
   "file_extension": ".py",
   "mimetype": "text/x-python",
   "name": "python",
   "nbconvert_exporter": "python",
   "pygments_lexer": "ipython3",
   "version": "3.8.8"
  }
 },
 "nbformat": 4,
 "nbformat_minor": 5
}
