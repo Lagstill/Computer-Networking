{
 "cells": [
  {
   "cell_type": "code",
   "execution_count": null,
   "id": "34658e5c",
   "metadata": {},
   "outputs": [
    {
     "name": "stdout",
     "output_type": "stream",
     "text": [
      "[STARTING] server is starting...\n",
      "[LISTENING] Server is listening on 192.168.56.1\n",
      "[NEW CONNECTION] ('192.168.56.1', 63035) connected.\n",
      "[('192.168.56.1', 63035)] hii\n",
      "[NEW CONNECTION] ('192.168.56.1', 63036) connected.\n",
      "[('192.168.56.1', 63036)] hello\n",
      "[('192.168.56.1', 63036)] this is Client2\n",
      "[('192.168.56.1', 63035)] This is client1\n",
      "[('192.168.56.1', 63035)] bye!!\n",
      "[('192.168.56.1', 63036)] Bye\n",
      "[('192.168.56.1', 63036)] !DISCONNECT\n",
      "[('192.168.56.1', 63035)] !DISCONNECT\n"
     ]
    }
   ],
   "source": [
    "import socket \n",
    "import threading\n",
    "\n",
    "HEADER = 64\n",
    "PORT = 5050\n",
    "\n",
    "\n",
    "SERVER = socket.gethostbyname(socket.gethostname())\n",
    "ADDR = (SERVER, PORT)\n",
    "FORMAT = 'utf-8'\n",
    "DISCONNECT_MESSAGE = \"!DISCONNECT\"\n",
    "\n",
    "server = socket.socket(socket.AF_INET, socket.SOCK_STREAM)\n",
    "server.bind(ADDR)\n",
    "\n",
    "def handle_client(conn, addr):\n",
    "    cnt = 0\n",
    "    print(f\"[NEW CONNECTION] {addr} connected.\")\n",
    "    cnt += 1\n",
    "    connected = True\n",
    "    while connected:\n",
    "        msg_length = conn.recv(HEADER).decode(FORMAT)\n",
    "        if msg_length:\n",
    "            msg_length = int(msg_length)\n",
    "            msg = conn.recv(msg_length).decode(FORMAT)\n",
    "            if msg == DISCONNECT_MESSAGE:\n",
    "                connected = False\n",
    "                cnt -= 1\n",
    "\n",
    "            print(f\"[{addr}] {msg}\")\n",
    "            conn.send(\"Server Msg received\".encode(FORMAT))\n",
    "\n",
    "    conn.close()\n",
    "        \n",
    "\n",
    "def start():\n",
    "    server.listen(5)\n",
    "    print(f\"[LISTENING] Server is listening on {SERVER}\")\n",
    "    while True:\n",
    "        conn, addr = server.accept()\n",
    "        thread = threading.Thread(target=handle_client, args=(conn, addr))\n",
    "        thread.start()\n",
    "        \n",
    "\n",
    "print(\"[STARTING] server is starting...\")\n",
    "start()\n",
    "if cnt == 0:\n",
    "    print(\"[CLOSING] server is closed\")\n",
    "    s.close()"
   ]
  },
  {
   "cell_type": "code",
   "execution_count": null,
   "id": "0ed4fc5f",
   "metadata": {},
   "outputs": [],
   "source": []
  },
  {
   "cell_type": "code",
   "execution_count": null,
   "id": "18bb9ee4",
   "metadata": {},
   "outputs": [],
   "source": []
  },
  {
   "cell_type": "code",
   "execution_count": null,
   "id": "4cfb449b",
   "metadata": {},
   "outputs": [],
   "source": []
  },
  {
   "cell_type": "code",
   "execution_count": null,
   "id": "da78441c",
   "metadata": {},
   "outputs": [],
   "source": []
  },
  {
   "cell_type": "code",
   "execution_count": null,
   "id": "3ce0ef36",
   "metadata": {},
   "outputs": [
    {
     "name": "stdout",
     "output_type": "stream",
     "text": [
      "[STARTING] server is starting...\n",
      "[LISTENING] Server is listening on 192.168.56.1\n",
      "[NEW CONNECTION] ('192.168.56.1', 55179) connected.\n",
      "[('192.168.56.1', 55179)] hii\n",
      "[NEW CONNECTION] ('192.168.56.1', 55180) connected.\n",
      "[('192.168.56.1', 55180)] hello\n",
      "[('192.168.56.1', 55180)] how r u?\n",
      "[('192.168.56.1', 55179)] fine..how r u?\n",
      "[('192.168.56.1', 55180)] !DISCONNECT\n",
      "[('192.168.56.1', 55179)] !DISCONNECT\n"
     ]
    }
   ],
   "source": [
    "import socket \n",
    "import threading\n",
    "\n",
    "HEADER = 64\n",
    "PORT = 5050\n",
    "\n",
    "\n",
    "SERVER = socket.gethostbyname(socket.gethostname())\n",
    "ADDR = (SERVER, PORT)\n",
    "FORMAT = 'utf-8'\n",
    "DISCONNECT_MESSAGE = \"!DISCONNECT\"\n",
    "\n",
    "server = socket.socket(socket.AF_INET, socket.SOCK_STREAM)\n",
    "server.bind(ADDR)\n",
    "\n",
    "def handle_client(conn, addr):\n",
    "    print(f\"[NEW CONNECTION] {addr} connected.\")\n",
    "\n",
    "    connected = True\n",
    "    while connected:\n",
    "        msg_length = conn.recv(HEADER).decode(FORMAT)\n",
    "        if msg_length:\n",
    "            msg_length = int(msg_length)\n",
    "            msg = conn.recv(msg_length).decode(FORMAT)\n",
    "            if msg == DISCONNECT_MESSAGE:\n",
    "                connected = False\n",
    "\n",
    "            print(f\"[{addr}] {msg}\")\n",
    "            conn.send(\"Server Msg received\".encode(FORMAT))\n",
    "\n",
    "    conn.close()\n",
    "        \n",
    "\n",
    "def start():\n",
    "    server.listen(5)\n",
    "    print(f\"[LISTENING] Server is listening on {SERVER}\")\n",
    "    while True:\n",
    "        conn, addr = server.accept()\n",
    "        thread = threading.Thread(target=handle_client, args=(conn, addr))\n",
    "        thread.start()\n",
    "        \n",
    "\n",
    "print(\"[STARTING] server is starting...\")\n",
    "start()\n",
    "print(\"[CLOSING] server is closed\")\n",
    "s.close()"
   ]
  },
  {
   "cell_type": "code",
   "execution_count": null,
   "id": "57046413",
   "metadata": {},
   "outputs": [],
   "source": []
  }
 ],
 "metadata": {
  "kernelspec": {
   "display_name": "Python 3",
   "language": "python",
   "name": "python3"
  },
  "language_info": {
   "codemirror_mode": {
    "name": "ipython",
    "version": 3
   },
   "file_extension": ".py",
   "mimetype": "text/x-python",
   "name": "python",
   "nbconvert_exporter": "python",
   "pygments_lexer": "ipython3",
   "version": "3.8.8"
  }
 },
 "nbformat": 4,
 "nbformat_minor": 5
}
